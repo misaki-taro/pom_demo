{
 "cells": [
  {
   "cell_type": "code",
   "execution_count": 1,
   "metadata": {},
   "outputs": [],
   "source": [
    "from Utils.Yaml import Yaml_Util"
   ]
  },
  {
   "cell_type": "code",
   "execution_count": 4,
   "metadata": {},
   "outputs": [],
   "source": [
    "yaml_util = Yaml_Util('a.yaml')"
   ]
  },
  {
   "cell_type": "code",
   "execution_count": 5,
   "metadata": {},
   "outputs": [
    {
     "data": {
      "text/plain": [
       "[[1, 2, 3], [4, 5, 6]]"
      ]
     },
     "execution_count": 5,
     "metadata": {},
     "output_type": "execute_result"
    }
   ],
   "source": [
    "yaml_util.yaml_read()"
   ]
  },
  {
   "cell_type": "code",
   "execution_count": 8,
   "metadata": {},
   "outputs": [
    {
     "name": "stdout",
     "output_type": "stream",
     "text": [
      "当前工作目录:  c:\\Users\\59723\\Desktop\\z\\pom_demo\n",
      "\n",
      "父目录: c:\\Users\\59723\\Desktop\\z\n"
     ]
    }
   ],
   "source": [
    "import os\n",
    " \n",
    " \n",
    "# 当前工作目录\n",
    "path = os.getcwd()\n",
    "print(\"当前工作目录: \", path)\n",
    " \n",
    "# 父目录\n",
    "parent = os.path.join(path, os.pardir)\n",
    " \n",
    "# 父目录\n",
    "print(\"\\n父目录:\", os.path.abspath(parent))"
   ]
  }
 ],
 "metadata": {
  "interpreter": {
   "hash": "26cc29bc012ae9e9b303e9d6701f235f5d716c49dfd6fe4a2177b39772c38f29"
  },
  "kernelspec": {
   "display_name": "Python 3.9.16 ('django')",
   "language": "python",
   "name": "python3"
  },
  "language_info": {
   "codemirror_mode": {
    "name": "ipython",
    "version": 3
   },
   "file_extension": ".py",
   "mimetype": "text/x-python",
   "name": "python",
   "nbconvert_exporter": "python",
   "pygments_lexer": "ipython3",
   "version": "3.9.16"
  },
  "orig_nbformat": 4
 },
 "nbformat": 4,
 "nbformat_minor": 2
}
